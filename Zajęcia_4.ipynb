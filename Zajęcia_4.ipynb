{
  "nbformat": 4,
  "nbformat_minor": 0,
  "metadata": {
    "colab": {
      "provenance": []
    },
    "kernelspec": {
      "name": "python3",
      "display_name": "Python 3"
    },
    "language_info": {
      "name": "python"
    }
  },
  "cells": [
    {
      "cell_type": "code",
      "source": [
        "class Animal:\n",
        "  def speak(self):\n",
        "    pass\n",
        "\n",
        "class Dog(Animal):\n",
        "  def speak(self):\n",
        "    print(\"Woof!\")\n",
        "\n",
        "class Cat(Animal):\n",
        "  def speak(self):\n",
        "    print(\"Meow!\")\n",
        "\n",
        "animals = [Dog(), Cat()]\n",
        "\n",
        "for animal in animals:\n",
        "  animal.speak()"
      ],
      "metadata": {
        "colab": {
          "base_uri": "https://localhost:8080/"
        },
        "id": "rArd6d_z2uNQ",
        "outputId": "b2721729-31d5-4cad-c9f9-ab72a545248c"
      },
      "execution_count": 1,
      "outputs": [
        {
          "output_type": "stream",
          "name": "stdout",
          "text": [
            "Woof!\n",
            "Meow!\n"
          ]
        }
      ]
    },
    {
      "cell_type": "code",
      "source": [
        "import math\n",
        "\n",
        "class Shape:\n",
        "  def area(self):\n",
        "    pass\n",
        "\n",
        "class Circle(Shape):\n",
        "  def __init__(self, radius):\n",
        "    self.radius = radius\n",
        "\n",
        "  def area(self):\n",
        "    return math.pi * self.radius ** 2\n",
        "\n",
        "class Square(Shape):\n",
        "  def __init__(self, a):\n",
        "    self.a = a\n",
        "\n",
        "  def area(self):\n",
        "    return self.a ** 2\n",
        "\n",
        "shapes = [Circle(5), Square(4)]\n",
        "\n",
        "for shape in shapes:\n",
        "  print(shape.area())\n"
      ],
      "metadata": {
        "colab": {
          "base_uri": "https://localhost:8080/"
        },
        "id": "DEYsTjQ54EQA",
        "outputId": "dbe477ee-4507-4115-8976-34f40f5acf3a"
      },
      "execution_count": 2,
      "outputs": [
        {
          "output_type": "stream",
          "name": "stdout",
          "text": [
            "78.53981633974483\n",
            "16\n"
          ]
        }
      ]
    },
    {
      "cell_type": "code",
      "source": [
        "import pickle\n",
        "\n",
        "class Person:\n",
        "  def __init__(self, name, age):\n",
        "    self.name = name\n",
        "    self.age = age\n",
        "\n",
        "person = Person(\"John\", 30)\n",
        "\n",
        "with open(\"person.pickle\", \"wb\") as f:\n",
        "  pickle.dump(person, f)"
      ],
      "metadata": {
        "id": "CcfEMIbH4vD3"
      },
      "execution_count": 3,
      "outputs": []
    },
    {
      "cell_type": "code",
      "source": [
        "with open(\"person.pickle\", \"rb\") as f:\n",
        "  loaded_person = pickle.load(f)\n",
        "\n",
        "print(loaded_person.age)\n",
        "print(loaded_person.name)"
      ],
      "metadata": {
        "colab": {
          "base_uri": "https://localhost:8080/"
        },
        "id": "mhifEjdX5d9H",
        "outputId": "1604eca5-1a66-460c-cae0-b0f9a3e2055a"
      },
      "execution_count": 4,
      "outputs": [
        {
          "output_type": "stream",
          "name": "stdout",
          "text": [
            "30\n",
            "John\n"
          ]
        }
      ]
    },
    {
      "cell_type": "code",
      "source": [
        "import json\n",
        "\n",
        "class Vehicle:\n",
        "  def __init__(self, brand, model, year):\n",
        "    self.brand = brand\n",
        "    self.model = model\n",
        "    self.year = year\n",
        "  def display_info(self):\n",
        "    print(f\"{self.brand} {self.model}, rocznik: ({self.year})\")\n",
        "\n",
        "class Car(Vehicle):\n",
        "  def __init__(self, brand, model, year, doors):\n",
        "    super().__init__(brand, model, year)\n",
        "    self.doors = doors\n",
        "\n",
        "  def display_info(self):\n",
        "    super().display_info()\n",
        "    print(f\"Liczba drzwi: {self.doors}\")\n",
        "\n",
        "\n",
        "car = Car(\"Toyota\", \"Corolla\", 2022, 5)\n",
        "\n",
        "print(car.__dict__)\n",
        "\n",
        "car_json = json.dumps(car.__dict__)\n",
        "\n",
        "print(car_json)\n",
        "\n",
        "with open(\"car.json\", \"w\") as f:\n",
        "  json.dump(car.__dict__, f)"
      ],
      "metadata": {
        "colab": {
          "base_uri": "https://localhost:8080/"
        },
        "id": "bcDX3H2k52HX",
        "outputId": "31a0059e-d07c-428b-d48f-39b255cd6253"
      },
      "execution_count": 7,
      "outputs": [
        {
          "output_type": "stream",
          "name": "stdout",
          "text": [
            "{'brand': 'Toyota', 'model': 'Corolla', 'year': 2022, 'doors': 5}\n",
            "{\"brand\": \"Toyota\", \"model\": \"Corolla\", \"year\": 2022, \"doors\": 5}\n"
          ]
        }
      ]
    }
  ]
}